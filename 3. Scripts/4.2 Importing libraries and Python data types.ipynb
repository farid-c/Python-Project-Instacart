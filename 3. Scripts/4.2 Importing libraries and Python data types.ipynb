{
 "cells": [
  {
   "cell_type": "markdown",
   "id": "97b70209",
   "metadata": {},
   "source": [
    "#01.Importing Libraries"
   ]
  },
  {
   "cell_type": "code",
   "execution_count": 2,
   "id": "1fa079e8",
   "metadata": {},
   "outputs": [],
   "source": [
    "# Import Libraries\n",
    "import pandas as pd\n",
    "import numpy as np\n",
    "import os"
   ]
  },
  {
   "cell_type": "markdown",
   "id": "b49bc063",
   "metadata": {},
   "source": [
    "#02.Task 4.2"
   ]
  },
  {
   "cell_type": "code",
   "execution_count": 35,
   "id": "223646e7",
   "metadata": {},
   "outputs": [],
   "source": [
    "a = 50"
   ]
  },
  {
   "cell_type": "code",
   "execution_count": 36,
   "id": "9e330291",
   "metadata": {},
   "outputs": [],
   "source": [
    "b = 2"
   ]
  },
  {
   "cell_type": "code",
   "execution_count": 37,
   "id": "09c1dce3",
   "metadata": {},
   "outputs": [],
   "source": [
    "c = 25"
   ]
  },
  {
   "cell_type": "code",
   "execution_count": 43,
   "id": "d35ca443",
   "metadata": {},
   "outputs": [],
   "source": [
    "d = 75"
   ]
  },
  {
   "cell_type": "code",
   "execution_count": 46,
   "id": "2af631f1",
   "metadata": {},
   "outputs": [
    {
     "data": {
      "text/plain": [
       "100"
      ]
     },
     "execution_count": 46,
     "metadata": {},
     "output_type": "execute_result"
    }
   ],
   "source": [
    "a*b"
   ]
  },
  {
   "cell_type": "code",
   "execution_count": 49,
   "id": "a56a7f7a",
   "metadata": {},
   "outputs": [
    {
     "data": {
      "text/plain": [
       "100"
      ]
     },
     "execution_count": 49,
     "metadata": {},
     "output_type": "execute_result"
    }
   ],
   "source": [
    "c+d"
   ]
  },
  {
   "cell_type": "code",
   "execution_count": 50,
   "id": "928455ef",
   "metadata": {},
   "outputs": [
    {
     "data": {
      "text/plain": [
       "100"
      ]
     },
     "execution_count": 50,
     "metadata": {},
     "output_type": "execute_result"
    }
   ],
   "source": [
    "c*b*b"
   ]
  },
  {
   "cell_type": "code",
   "execution_count": 51,
   "id": "773e8d31",
   "metadata": {},
   "outputs": [],
   "source": [
    "e = 2.5"
   ]
  },
  {
   "cell_type": "code",
   "execution_count": 52,
   "id": "c3917081",
   "metadata": {},
   "outputs": [],
   "source": [
    "f = 3.14"
   ]
  },
  {
   "cell_type": "code",
   "execution_count": 53,
   "id": "9b55ffb9",
   "metadata": {},
   "outputs": [
    {
     "data": {
      "text/plain": [
       "0.7961783439490445"
      ]
     },
     "execution_count": 53,
     "metadata": {},
     "output_type": "execute_result"
    }
   ],
   "source": [
    "e/f"
   ]
  },
  {
   "cell_type": "code",
   "execution_count": 54,
   "id": "0fdfc4ac",
   "metadata": {},
   "outputs": [],
   "source": [
    "z = 'Concat'"
   ]
  },
  {
   "cell_type": "code",
   "execution_count": 55,
   "id": "935b8f88",
   "metadata": {},
   "outputs": [],
   "source": [
    "y = 'ination'"
   ]
  },
  {
   "cell_type": "code",
   "execution_count": 56,
   "id": "ea30b03e",
   "metadata": {},
   "outputs": [
    {
     "data": {
      "text/plain": [
       "'Concatination'"
      ]
     },
     "execution_count": 56,
     "metadata": {},
     "output_type": "execute_result"
    }
   ],
   "source": [
    "z+y"
   ]
  },
  {
   "cell_type": "code",
   "execution_count": 59,
   "id": "6d4a2c85",
   "metadata": {},
   "outputs": [],
   "source": [
    "x = 'Hello, Python world! '"
   ]
  },
  {
   "cell_type": "code",
   "execution_count": 62,
   "id": "f482b37b",
   "metadata": {},
   "outputs": [],
   "source": [
    "w = 'Let us start coding!'"
   ]
  },
  {
   "cell_type": "code",
   "execution_count": 63,
   "id": "17d73fc9",
   "metadata": {},
   "outputs": [
    {
     "data": {
      "text/plain": [
       "'Hello, Python world! Let us start coding!'"
      ]
     },
     "execution_count": 63,
     "metadata": {},
     "output_type": "execute_result"
    }
   ],
   "source": [
    "x+w"
   ]
  }
 ],
 "metadata": {
  "kernelspec": {
   "display_name": "Python 3 (ipykernel)",
   "language": "python",
   "name": "python3"
  },
  "language_info": {
   "codemirror_mode": {
    "name": "ipython",
    "version": 3
   },
   "file_extension": ".py",
   "mimetype": "text/x-python",
   "name": "python",
   "nbconvert_exporter": "python",
   "pygments_lexer": "ipython3",
   "version": "3.9.7"
  }
 },
 "nbformat": 4,
 "nbformat_minor": 5
}

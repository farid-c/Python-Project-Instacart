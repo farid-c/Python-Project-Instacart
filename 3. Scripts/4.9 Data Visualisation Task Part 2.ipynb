{
 "cells": [
  {
   "cell_type": "code",
   "execution_count": 1,
   "id": "826fc36f",
   "metadata": {},
   "outputs": [],
   "source": [
    "#Import libraries\n",
    "import pandas as pd\n",
    "import numpy as np\n",
    "import os\n",
    "import matplotlib.pyplot as plt\n",
    "import seaborn as sns\n",
    "import scipy"
   ]
  },
  {
   "cell_type": "code",
   "execution_count": 2,
   "id": "1141b2a2",
   "metadata": {},
   "outputs": [],
   "source": [
    "#Set OS Path\n",
    "path = r'/Users/faridchehraz/Desktop/Python/Master - Dec2021 Instacart Basket Analysis'"
   ]
  },
  {
   "cell_type": "code",
   "execution_count": 4,
   "id": "cde46e22",
   "metadata": {},
   "outputs": [],
   "source": [
    "#Import sales_cust file as DF\n",
    "sales_cust = pd.read_pickle(os.path.join(path, '2. Data', 'b. Prepared Data', 'sales_cust.pkl'))"
   ]
  },
  {
   "cell_type": "code",
   "execution_count": 45,
   "id": "8763cfbf",
   "metadata": {},
   "outputs": [
    {
     "data": {
      "image/png": "[encoded data removed]",
      "text/plain": [
       "<Figure size 432x288 with 1 Axes>"
      ]
     },
     "metadata": {
      "needs_background": "light"
     },
     "output_type": "display_data"
    }
   ],
   "source": [
    "#Create bar graph ordered by days of the week\n",
    "bar = sales_cust['orders_day_of_week'].value_counts().sort_index().plot.bar()"
   ]
  },
  {
   "cell_type": "code",
   "execution_count": 46,
   "id": "bd58969f",
   "metadata": {},
   "outputs": [],
   "source": [
    "#Export bar graph\n",
    "bar.figure.savefig(os.path.join(path, '4. Analysis','c. Visualisations', 'bar_orders_dow.png'))"
   ]
  },
  {
   "cell_type": "code",
   "execution_count": 44,
   "id": "7391d114",
   "metadata": {},
   "outputs": [
    {
     "data": {
      "image/png": "[encoded data removed]",
      "text/plain": [
       "<Figure size 432x288 with 1 Axes>"
      ]
     },
     "metadata": {
      "needs_background": "light"
     },
     "output_type": "display_data"
    }
   ],
   "source": [
    "#Create histogram\n",
    "hist = sales_cust['prices'].plot.hist(bins = 25)"
   ]
  },
  {
   "cell_type": "code",
   "execution_count": 47,
   "id": "0f1fac1b",
   "metadata": {},
   "outputs": [],
   "source": [
    "#Export histogram\n",
    "hist.figure.savefig(os.path.join(path, '4. Analysis','c. Visualisations', 'prices.png'))"
   ]
  },
  {
   "cell_type": "code",
   "execution_count": 9,
   "id": "eefbd61c",
   "metadata": {},
   "outputs": [
    {
     "data": {
      "text/plain": [
       "count    3.240486e+07\n",
       "mean     1.198023e+01\n",
       "std      4.956554e+02\n",
       "min      1.000000e+00\n",
       "25%      4.200000e+00\n",
       "50%      7.400000e+00\n",
       "75%      1.130000e+01\n",
       "max      9.999900e+04\n",
       "Name: prices, dtype: float64"
      ]
     },
     "execution_count": 9,
     "metadata": {},
     "output_type": "execute_result"
    }
   ],
   "source": [
    "#Check dataframe\n",
    "sales_cust['prices'].describe()"
   ]
  },
  {
   "cell_type": "code",
   "execution_count": 11,
   "id": "a2cf259c",
   "metadata": {},
   "outputs": [],
   "source": [
    "#Set values >100 as NaN / missing\n",
    "sales_cust.loc[sales_cust['prices'] >100, 'prices'] = np.nan"
   ]
  },
  {
   "cell_type": "code",
   "execution_count": 12,
   "id": "8257d462",
   "metadata": {},
   "outputs": [
    {
     "data": {
      "text/plain": [
       "count    3.239973e+07\n",
       "mean     7.790994e+00\n",
       "std      4.241809e+00\n",
       "min      1.000000e+00\n",
       "25%      4.200000e+00\n",
       "50%      7.400000e+00\n",
       "75%      1.130000e+01\n",
       "max      2.500000e+01\n",
       "Name: prices, dtype: float64"
      ]
     },
     "execution_count": 12,
     "metadata": {},
     "output_type": "execute_result"
    }
   ],
   "source": [
    "#Check dataframe\n",
    "sales_cust['prices'].describe()"
   ]
  },
  {
   "cell_type": "code",
   "execution_count": 49,
   "id": "9f245eb6",
   "metadata": {},
   "outputs": [
    {
     "data": {
      "image/png": "[encoded data removed]",
      "text/plain": [
       "<Figure size 432x288 with 1 Axes>"
      ]
     },
     "metadata": {
      "needs_background": "light"
     },
     "output_type": "display_data"
    }
   ],
   "source": [
    "#Create histogram on prices with 70 bins\n",
    "hist2 = sales_cust['prices'].plot.hist(bins = 70)"
   ]
  },
  {
   "cell_type": "code",
   "execution_count": 50,
   "id": "40f61d24",
   "metadata": {},
   "outputs": [],
   "source": [
    "#Export histogram\n",
    "hist2.figure.savefig(os.path.join(path, '4. Analysis','c. Visualisations', 'prices2.png'))"
   ]
  },
  {
   "cell_type": "code",
   "execution_count": 14,
   "id": "1a75543d",
   "metadata": {},
   "outputs": [],
   "source": [
    "#Set seed number\n",
    "np.random.seed(4)"
   ]
  },
  {
   "cell_type": "code",
   "execution_count": 16,
   "id": "10232fc8",
   "metadata": {},
   "outputs": [],
   "source": [
    "# Create a List holding True/False values to the test np.random.rant () <= 0.7\n",
    "dev = np.random.rand (len(sales_cust)) <= 0.7"
   ]
  },
  {
   "cell_type": "code",
   "execution_count": 17,
   "id": "fdd9cbb8",
   "metadata": {},
   "outputs": [],
   "source": [
    "# Store 70% of the sample in the dataframe big\n",
    "big = sales_cust[dev]"
   ]
  },
  {
   "cell_type": "code",
   "execution_count": 18,
   "id": "5cf34c14",
   "metadata": {},
   "outputs": [],
   "source": [
    "# Store 30% of the sample in the dataframe small\n",
    "small = sales_cust[~dev]"
   ]
  },
  {
   "cell_type": "code",
   "execution_count": 19,
   "id": "faad64e7",
   "metadata": {},
   "outputs": [
    {
     "data": {
      "text/plain": [
       "32435059"
      ]
     },
     "execution_count": 19,
     "metadata": {},
     "output_type": "execute_result"
    }
   ],
   "source": [
    "#Check DF len\n",
    "len(sales_cust)"
   ]
  },
  {
   "cell_type": "code",
   "execution_count": 20,
   "id": "ba31409f",
   "metadata": {},
   "outputs": [
    {
     "data": {
      "text/plain": [
       "32435059"
      ]
     },
     "execution_count": 20,
     "metadata": {},
     "output_type": "execute_result"
    }
   ],
   "source": [
    "#Check samples len\n",
    "len(big) + len(small)"
   ]
  },
  {
   "cell_type": "code",
   "execution_count": 21,
   "id": "fd789719",
   "metadata": {},
   "outputs": [],
   "source": [
    "#Create DF containing necessary columns only\n",
    "df_2 = small[['orders_day_of_week','prices']]"
   ]
  },
  {
   "cell_type": "code",
   "execution_count": 22,
   "id": "2ee35a8b",
   "metadata": {},
   "outputs": [
    {
     "data": {
      "image/png": "[encoded data removed]",
      "text/plain": [
       "<Figure size 432x288 with 1 Axes>"
      ]
     },
     "metadata": {
      "needs_background": "light"
     },
     "output_type": "display_data"
    }
   ],
   "source": [
    "#Create line graph\n",
    "line = sns.lineplot(data = df_2, x = 'orders_day_of_week',y = 'prices')"
   ]
  },
  {
   "cell_type": "code",
   "execution_count": 51,
   "id": "66040498",
   "metadata": {},
   "outputs": [],
   "source": [
    "#Export line graph\n",
    "line.figure.savefig(os.path.join(path, '4. Analysis','c. Visualisations', 'odotw_prices.png'))"
   ]
  },
  {
   "cell_type": "code",
   "execution_count": 27,
   "id": "66a40867",
   "metadata": {},
   "outputs": [
    {
     "data": {
      "text/html": [
       "<div>\n",
       "<style scoped>\n",
       "    .dataframe tbody tr th:only-of-type {\n",
       "        vertical-align: middle;\n",
       "    }\n",
       "\n",
       "    .dataframe tbody tr th {\n",
       "        vertical-align: top;\n",
       "    }\n",
       "\n",
       "    .dataframe thead th {\n",
       "        text-align: right;\n",
       "    }\n",
       "</style>\n",
       "<table border=\"1\" class=\"dataframe\">\n",
       "  <thead>\n",
       "    <tr style=\"text-align: right;\">\n",
       "      <th></th>\n",
       "      <th>order_id</th>\n",
       "      <th>user_id</th>\n",
       "      <th>order_number</th>\n",
       "      <th>orders_day_of_week</th>\n",
       "      <th>order_hour_of_day</th>\n",
       "      <th>days_since_prior_order</th>\n",
       "      <th>product_id</th>\n",
       "      <th>add_to_cart_order</th>\n",
       "      <th>reordered</th>\n",
       "      <th>_merge</th>\n",
       "      <th>product_name</th>\n",
       "      <th>aisle_id</th>\n",
       "      <th>department_id</th>\n",
       "      <th>prices</th>\n",
       "      <th>Check</th>\n",
       "      <th>price_range_loc</th>\n",
       "      <th>busiest_day</th>\n",
       "      <th>busiest_days</th>\n",
       "      <th>busiest_period_of_day</th>\n",
       "      <th>max_order</th>\n",
       "      <th>loyalty_flag</th>\n",
       "      <th>avg_order_cost_by_cust</th>\n",
       "      <th>spender_flag</th>\n",
       "      <th>cust_frequency</th>\n",
       "      <th>frequency_flag</th>\n",
       "      <th>gender</th>\n",
       "      <th>state</th>\n",
       "      <th>age</th>\n",
       "      <th>date_joined</th>\n",
       "      <th>no_dependents</th>\n",
       "      <th>fam_status</th>\n",
       "      <th>income</th>\n",
       "      <th>Check_col</th>\n",
       "    </tr>\n",
       "  </thead>\n",
       "  <tbody>\n",
       "    <tr>\n",
       "      <th>0</th>\n",
       "      <td>2539329</td>\n",
       "      <td>1</td>\n",
       "      <td>1</td>\n",
       "      <td>2</td>\n",
       "      <td>8</td>\n",
       "      <td>NaN</td>\n",
       "      <td>196</td>\n",
       "      <td>1</td>\n",
       "      <td>0</td>\n",
       "      <td>both</td>\n",
       "      <td>Soda</td>\n",
       "      <td>77.0</td>\n",
       "      <td>7.0</td>\n",
       "      <td>9.0</td>\n",
       "      <td>both</td>\n",
       "      <td>Mid-range product</td>\n",
       "      <td>Regularly busy</td>\n",
       "      <td>Regularly busy days</td>\n",
       "      <td>Average orders</td>\n",
       "      <td>10</td>\n",
       "      <td>New customer</td>\n",
       "      <td>6.367797</td>\n",
       "      <td>Low spender</td>\n",
       "      <td>20.5</td>\n",
       "      <td>Non-frequent customer</td>\n",
       "      <td>Female</td>\n",
       "      <td>Alabama</td>\n",
       "      <td>31</td>\n",
       "      <td>2/17/2019</td>\n",
       "      <td>3</td>\n",
       "      <td>married</td>\n",
       "      <td>40423</td>\n",
       "      <td>both</td>\n",
       "    </tr>\n",
       "    <tr>\n",
       "      <th>1</th>\n",
       "      <td>2539329</td>\n",
       "      <td>1</td>\n",
       "      <td>1</td>\n",
       "      <td>2</td>\n",
       "      <td>8</td>\n",
       "      <td>NaN</td>\n",
       "      <td>14084</td>\n",
       "      <td>2</td>\n",
       "      <td>0</td>\n",
       "      <td>both</td>\n",
       "      <td>Organic Unsweetened Vanilla Almond Milk</td>\n",
       "      <td>91.0</td>\n",
       "      <td>16.0</td>\n",
       "      <td>12.5</td>\n",
       "      <td>both</td>\n",
       "      <td>Mid-range product</td>\n",
       "      <td>Regularly busy</td>\n",
       "      <td>Regularly busy days</td>\n",
       "      <td>Average orders</td>\n",
       "      <td>10</td>\n",
       "      <td>New customer</td>\n",
       "      <td>6.367797</td>\n",
       "      <td>Low spender</td>\n",
       "      <td>20.5</td>\n",
       "      <td>Non-frequent customer</td>\n",
       "      <td>Female</td>\n",
       "      <td>Alabama</td>\n",
       "      <td>31</td>\n",
       "      <td>2/17/2019</td>\n",
       "      <td>3</td>\n",
       "      <td>married</td>\n",
       "      <td>40423</td>\n",
       "      <td>both</td>\n",
       "    </tr>\n",
       "    <tr>\n",
       "      <th>2</th>\n",
       "      <td>2539329</td>\n",
       "      <td>1</td>\n",
       "      <td>1</td>\n",
       "      <td>2</td>\n",
       "      <td>8</td>\n",
       "      <td>NaN</td>\n",
       "      <td>12427</td>\n",
       "      <td>3</td>\n",
       "      <td>0</td>\n",
       "      <td>both</td>\n",
       "      <td>Original Beef Jerky</td>\n",
       "      <td>23.0</td>\n",
       "      <td>19.0</td>\n",
       "      <td>4.4</td>\n",
       "      <td>both</td>\n",
       "      <td>Low-range product</td>\n",
       "      <td>Regularly busy</td>\n",
       "      <td>Regularly busy days</td>\n",
       "      <td>Average orders</td>\n",
       "      <td>10</td>\n",
       "      <td>New customer</td>\n",
       "      <td>6.367797</td>\n",
       "      <td>Low spender</td>\n",
       "      <td>20.5</td>\n",
       "      <td>Non-frequent customer</td>\n",
       "      <td>Female</td>\n",
       "      <td>Alabama</td>\n",
       "      <td>31</td>\n",
       "      <td>2/17/2019</td>\n",
       "      <td>3</td>\n",
       "      <td>married</td>\n",
       "      <td>40423</td>\n",
       "      <td>both</td>\n",
       "    </tr>\n",
       "    <tr>\n",
       "      <th>3</th>\n",
       "      <td>2539329</td>\n",
       "      <td>1</td>\n",
       "      <td>1</td>\n",
       "      <td>2</td>\n",
       "      <td>8</td>\n",
       "      <td>NaN</td>\n",
       "      <td>26088</td>\n",
       "      <td>4</td>\n",
       "      <td>0</td>\n",
       "      <td>both</td>\n",
       "      <td>Aged White Cheddar Popcorn</td>\n",
       "      <td>23.0</td>\n",
       "      <td>19.0</td>\n",
       "      <td>4.7</td>\n",
       "      <td>both</td>\n",
       "      <td>Low-range product</td>\n",
       "      <td>Regularly busy</td>\n",
       "      <td>Regularly busy days</td>\n",
       "      <td>Average orders</td>\n",
       "      <td>10</td>\n",
       "      <td>New customer</td>\n",
       "      <td>6.367797</td>\n",
       "      <td>Low spender</td>\n",
       "      <td>20.5</td>\n",
       "      <td>Non-frequent customer</td>\n",
       "      <td>Female</td>\n",
       "      <td>Alabama</td>\n",
       "      <td>31</td>\n",
       "      <td>2/17/2019</td>\n",
       "      <td>3</td>\n",
       "      <td>married</td>\n",
       "      <td>40423</td>\n",
       "      <td>both</td>\n",
       "    </tr>\n",
       "    <tr>\n",
       "      <th>4</th>\n",
       "      <td>2539329</td>\n",
       "      <td>1</td>\n",
       "      <td>1</td>\n",
       "      <td>2</td>\n",
       "      <td>8</td>\n",
       "      <td>NaN</td>\n",
       "      <td>26405</td>\n",
       "      <td>5</td>\n",
       "      <td>0</td>\n",
       "      <td>both</td>\n",
       "      <td>XL Pick-A-Size Paper Towel Rolls</td>\n",
       "      <td>54.0</td>\n",
       "      <td>17.0</td>\n",
       "      <td>1.0</td>\n",
       "      <td>both</td>\n",
       "      <td>Low-range product</td>\n",
       "      <td>Regularly busy</td>\n",
       "      <td>Regularly busy days</td>\n",
       "      <td>Average orders</td>\n",
       "      <td>10</td>\n",
       "      <td>New customer</td>\n",
       "      <td>6.367797</td>\n",
       "      <td>Low spender</td>\n",
       "      <td>20.5</td>\n",
       "      <td>Non-frequent customer</td>\n",
       "      <td>Female</td>\n",
       "      <td>Alabama</td>\n",
       "      <td>31</td>\n",
       "      <td>2/17/2019</td>\n",
       "      <td>3</td>\n",
       "      <td>married</td>\n",
       "      <td>40423</td>\n",
       "      <td>both</td>\n",
       "    </tr>\n",
       "  </tbody>\n",
       "</table>\n",
       "</div>"
      ],
      "text/plain": [
       "   order_id  user_id  order_number  orders_day_of_week  order_hour_of_day  \\\n",
       "0   2539329        1             1                   2                  8   \n",
       "1   2539329        1             1                   2                  8   \n",
       "2   2539329        1             1                   2                  8   \n",
       "3   2539329        1             1                   2                  8   \n",
       "4   2539329        1             1                   2                  8   \n",
       "\n",
       "   days_since_prior_order  product_id  add_to_cart_order  reordered _merge  \\\n",
       "0                     NaN         196                  1          0   both   \n",
       "1                     NaN       14084                  2          0   both   \n",
       "2                     NaN       12427                  3          0   both   \n",
       "3                     NaN       26088                  4          0   both   \n",
       "4                     NaN       26405                  5          0   both   \n",
       "\n",
       "                              product_name  aisle_id  department_id  prices  \\\n",
       "0                                     Soda      77.0            7.0     9.0   \n",
       "1  Organic Unsweetened Vanilla Almond Milk      91.0           16.0    12.5   \n",
       "2                      Original Beef Jerky      23.0           19.0     4.4   \n",
       "3               Aged White Cheddar Popcorn      23.0           19.0     4.7   \n",
       "4         XL Pick-A-Size Paper Towel Rolls      54.0           17.0     1.0   \n",
       "\n",
       "  Check    price_range_loc     busiest_day         busiest_days  \\\n",
       "0  both  Mid-range product  Regularly busy  Regularly busy days   \n",
       "1  both  Mid-range product  Regularly busy  Regularly busy days   \n",
       "2  both  Low-range product  Regularly busy  Regularly busy days   \n",
       "3  both  Low-range product  Regularly busy  Regularly busy days   \n",
       "4  both  Low-range product  Regularly busy  Regularly busy days   \n",
       "\n",
       "  busiest_period_of_day  max_order  loyalty_flag  avg_order_cost_by_cust  \\\n",
       "0        Average orders         10  New customer                6.367797   \n",
       "1        Average orders         10  New customer                6.367797   \n",
       "2        Average orders         10  New customer                6.367797   \n",
       "3        Average orders         10  New customer                6.367797   \n",
       "4        Average orders         10  New customer                6.367797   \n",
       "\n",
       "  spender_flag  cust_frequency         frequency_flag  gender    state  age  \\\n",
       "0  Low spender            20.5  Non-frequent customer  Female  Alabama   31   \n",
       "1  Low spender            20.5  Non-frequent customer  Female  Alabama   31   \n",
       "2  Low spender            20.5  Non-frequent customer  Female  Alabama   31   \n",
       "3  Low spender            20.5  Non-frequent customer  Female  Alabama   31   \n",
       "4  Low spender            20.5  Non-frequent customer  Female  Alabama   31   \n",
       "\n",
       "  date_joined  no_dependents fam_status  income Check_col  \n",
       "0   2/17/2019              3    married   40423      both  \n",
       "1   2/17/2019              3    married   40423      both  \n",
       "2   2/17/2019              3    married   40423      both  \n",
       "3   2/17/2019              3    married   40423      both  \n",
       "4   2/17/2019              3    married   40423      both  "
      ]
     },
     "execution_count": 27,
     "metadata": {},
     "output_type": "execute_result"
    }
   ],
   "source": [
    "pd.set_option('display.max_columns', None)\n",
    "sales_cust.head()"
   ]
  },
  {
   "cell_type": "code",
   "execution_count": 53,
   "id": "75a0b6eb",
   "metadata": {},
   "outputs": [
    {
     "data": {
      "image/png": "[encoded data removed]",
      "text/plain": [
       "<Figure size 432x288 with 1 Axes>"
      ]
     },
     "metadata": {
      "needs_background": "light"
     },
     "output_type": "display_data"
    }
   ],
   "source": [
    "#Create histogram on prices with 24 bins\n",
    "hist3 = sales_cust['order_hour_of_day'].plot.hist(bins = 24)"
   ]
  },
  {
   "cell_type": "markdown",
   "id": "65ecac48",
   "metadata": {},
   "source": [
    "The above histogram shows most orders are made between 10am and 3pm. The busiest period is the afternoon, followed by the evening and then morning."
   ]
  },
  {
   "cell_type": "code",
   "execution_count": 54,
   "id": "076e4e5b",
   "metadata": {},
   "outputs": [],
   "source": [
    "#Export histogram\n",
    "hist3.figure.savefig(os.path.join(path, '4. Analysis','c. Visualisations', 'order_hr_day.png'))"
   ]
  },
  {
   "cell_type": "code",
   "execution_count": 55,
   "id": "d45e2e3f",
   "metadata": {},
   "outputs": [
    {
     "data": {
      "image/png": "[encoded data removed]",
      "text/plain": [
       "<Figure size 432x288 with 1 Axes>"
      ]
     },
     "metadata": {
      "needs_background": "light"
     },
     "output_type": "display_data"
    }
   ],
   "source": [
    "#Create bar graph showing customer loyalty categories\n",
    "bar2 = sales_cust['loyalty_flag'].value_counts().sort_index().plot.bar()"
   ]
  },
  {
   "cell_type": "code",
   "execution_count": 56,
   "id": "b35407ad",
   "metadata": {},
   "outputs": [],
   "source": [
    "#Export bar graph\n",
    "bar2.figure.savefig(os.path.join(path, '4. Analysis','c. Visualisations', 'bar_loyalty_flag.png'))"
   ]
  },
  {
   "cell_type": "code",
   "execution_count": 29,
   "id": "58b5c68c",
   "metadata": {},
   "outputs": [],
   "source": [
    "#Set seed number\n",
    "np.random.seed(4)"
   ]
  },
  {
   "cell_type": "code",
   "execution_count": 30,
   "id": "7b1c964a",
   "metadata": {},
   "outputs": [],
   "source": [
    "# Create a List holding True/False values to the test np.random.rant () <= 0.7\n",
    "dev = np.random.rand (len(sales_cust)) <= 0.7"
   ]
  },
  {
   "cell_type": "code",
   "execution_count": 31,
   "id": "c2af1837",
   "metadata": {},
   "outputs": [],
   "source": [
    "# Store 70% of the sample in the dataframe big\n",
    "big = sales_cust[dev]"
   ]
  },
  {
   "cell_type": "code",
   "execution_count": 32,
   "id": "d7611f68",
   "metadata": {},
   "outputs": [],
   "source": [
    "# Store 30% of the sample in the dataframe small\n",
    "small = sales_cust[~dev]"
   ]
  },
  {
   "cell_type": "code",
   "execution_count": 33,
   "id": "e3bb0ca5",
   "metadata": {},
   "outputs": [
    {
     "data": {
      "text/plain": [
       "32435059"
      ]
     },
     "execution_count": 33,
     "metadata": {},
     "output_type": "execute_result"
    }
   ],
   "source": [
    "#Check DF len\n",
    "len(sales_cust)"
   ]
  },
  {
   "cell_type": "code",
   "execution_count": 34,
   "id": "f466d31b",
   "metadata": {},
   "outputs": [
    {
     "data": {
      "text/plain": [
       "32435059"
      ]
     },
     "execution_count": 34,
     "metadata": {},
     "output_type": "execute_result"
    }
   ],
   "source": [
    "#Check samples len\n",
    "len(big) + len(small)"
   ]
  },
  {
   "cell_type": "code",
   "execution_count": 35,
   "id": "928b4d5a",
   "metadata": {},
   "outputs": [],
   "source": [
    "#Create DF containing necessary columns only\n",
    "df_3 = small[['order_hour_of_day','prices']]"
   ]
  },
  {
   "cell_type": "code",
   "execution_count": 58,
   "id": "dfc8a294",
   "metadata": {},
   "outputs": [
    {
     "data": {
      "image/png": "[encoded data removed]",
      "text/plain": [
       "<Figure size 432x288 with 1 Axes>"
      ]
     },
     "metadata": {
      "needs_background": "light"
     },
     "output_type": "display_data"
    }
   ],
   "source": [
    "#Create line graph showing the order hour of the day and prices\n",
    "line2 = sns.lineplot(data = df_3, x = 'order_hour_of_day',y = 'prices')"
   ]
  },
  {
   "cell_type": "code",
   "execution_count": 59,
   "id": "fdfbca1a",
   "metadata": {},
   "outputs": [],
   "source": [
    "#Export line graph\n",
    "line2.figure.savefig(os.path.join(path, '4. Analysis','c. Visualisations', 'order_hr_prices.png'))"
   ]
  },
  {
   "cell_type": "code",
   "execution_count": 38,
   "id": "8a9f403d",
   "metadata": {},
   "outputs": [],
   "source": [
    "#Create DF containing necessary columns only\n",
    "df_4 = small[['age','no_dependents']]"
   ]
  },
  {
   "cell_type": "code",
   "execution_count": 60,
   "id": "a26b1ee0",
   "metadata": {},
   "outputs": [
    {
     "data": {
      "image/png": "[encoded data removed]",
      "text/plain": [
       "<Figure size 432x288 with 1 Axes>"
      ]
     },
     "metadata": {
      "needs_background": "light"
     },
     "output_type": "display_data"
    }
   ],
   "source": [
    "#Create line graph showing customer age and number of dependents\n",
    "line3 = sns.lineplot(data = df_4, x = 'age',y = 'no_dependents')"
   ]
  },
  {
   "cell_type": "code",
   "execution_count": 61,
   "id": "7bb0a4f9",
   "metadata": {},
   "outputs": [],
   "source": [
    "#Export line graph\n",
    "line3.figure.savefig(os.path.join(path, '4. Analysis','c. Visualisations', 'age_dependents.png'))"
   ]
  },
  {
   "cell_type": "markdown",
   "id": "42f09981",
   "metadata": {},
   "source": [
    "The above graph shows that age is not an indicator of how many dependents a customer has"
   ]
  },
  {
   "cell_type": "code",
   "execution_count": 62,
   "id": "d970c623",
   "metadata": {},
   "outputs": [
    {
     "data": {
      "image/png": "[encoded data removed]",
      "text/plain": [
       "<Figure size 432x288 with 1 Axes>"
      ]
     },
     "metadata": {
      "needs_background": "light"
     },
     "output_type": "display_data"
    }
   ],
   "source": [
    "#Create scattergraph to show relationship between age and spending power (income)\n",
    "scatter = sns.scatterplot(x = 'age', y = 'income',data = sales_cust)"
   ]
  },
  {
   "cell_type": "code",
   "execution_count": 63,
   "id": "4c07c636",
   "metadata": {},
   "outputs": [],
   "source": [
    "#Export scattergraph\n",
    "scatter.figure.savefig(os.path.join(path, '4. Analysis','c. Visualisations', 'age_income.png'))"
   ]
  },
  {
   "cell_type": "markdown",
   "id": "de0ac2ff",
   "metadata": {},
   "source": [
    "The above graph shows spending power is generally stable from the age of 20 and 40 and then increases from 40 to 80 years of age."
   ]
  }
 ],
 "metadata": {
  "kernelspec": {
   "display_name": "Python 3 (ipykernel)",
   "language": "python",
   "name": "python3"
  },
  "language_info": {
   "codemirror_mode": {
    "name": "ipython",
    "version": 3
   },
   "file_extension": ".py",
   "mimetype": "text/x-python",
   "name": "python",
   "nbconvert_exporter": "python",
   "pygments_lexer": "ipython3",
   "version": "3.9.7"
  }
 },
 "nbformat": 4,
 "nbformat_minor": 5
}
